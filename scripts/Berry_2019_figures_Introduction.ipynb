{
 "cells": [
  {
   "cell_type": "markdown",
   "metadata": {},
   "source": [
    "## Introduction"
   ]
  },
  {
   "cell_type": "code",
   "execution_count": 1,
   "metadata": {},
   "outputs": [],
   "source": [
    "import DSGRN\n",
    "import Berry_2019_figures_results as Berry\n",
    "from min_interval_posets import posets, poset_distance\n",
    "from copy import deepcopy\n",
    "from numpy import linspace\n",
    "from IPython import display\n",
    "import matplotlib.pyplot as plt\n",
    "# from matplotlib import cm\n",
    "from importlib import reload\n",
    "from matplotlib import rc\n",
    "rc('text', usetex=True)\n",
    "fontsize=20\n",
    "rc('axes', labelsize=fontsize)    # fontsize of the x and y labels\n",
    "rc('xtick', labelsize=fontsize)    # fontsize of the tick labels\n",
    "rc('ytick', labelsize=fontsize)    # fontsize of the tick labels\n",
    "rc('legend', fontsize=12)    # legend fontsize\n",
    "%matplotlib inline"
   ]
  },
  {
   "cell_type": "code",
   "execution_count": 2,
   "metadata": {},
   "outputs": [],
   "source": [
    "wt1_file = \"WT1_WT2_microarray_interpolated/wt1_microarray_coregenes_lifepoints_interpol_trim.csv\"\n",
    "wt2_file = \"WT1_WT2_microarray_interpolated/wt2_microarray_coregenes_lifepoints_interpol.csv\"\n"
   ]
  },
  {
   "cell_type": "code",
   "execution_count": 3,
   "metadata": {},
   "outputs": [],
   "source": [
    "# graph data\n",
    "def make_fig(fname,savename,start_time=None,end_time=None,names=None):\n",
    "    curves = Berry.row(fname)\n",
    "    subset_curves = deepcopy(curves)\n",
    "    if names is not None:\n",
    "        for name in curves:\n",
    "            if name not in names:\n",
    "                subset_curves.pop(name)\n",
    "    for name,curve in subset_curves.items():\n",
    "        n = curve.normalize()\n",
    "        if start_time is not None and end_time is not None:\n",
    "            n = curve.trim(start_time,end_time)\n",
    "        times,vals = zip(*n.items())\n",
    "        plt.plot(times,vals,label=r\"${}$\".format(name))\n",
    "    lgd = plt.legend(loc='upper left', bbox_to_anchor=(1, 1))\n",
    "    plt.ylabel(r\"\\textbf{normalized expression}\")\n",
    "    plt.xlabel(r\"\\textbf{time points}\")\n",
    "    plt.savefig(savename,bbox_extra_artists=(lgd,), bbox_inches='tight') \n",
    "    plt.savefig(savename, bbox_inches='tight') \n",
    "    display.display(plt.show())\n",
    "    return [name for name in sorted(curves)]\n",
    "    "
   ]
  },
  {
   "cell_type": "code",
   "execution_count": 4,
   "metadata": {},
   "outputs": [],
   "source": [
    "start_time = 26\n",
    "end_time = 170\n",
    "names = [\"CDC20\"]\n",
    "epsilons = [0.00, 0.01, 0.02, 0.03, 0.04, 0.05]\n",
    "\n"
   ]
  },
  {
   "cell_type": "code",
   "execution_count": 5,
   "metadata": {},
   "outputs": [
    {
     "data": {
      "image/png": "[encoded data removed]",
      "text/plain": [
       "<Figure size 432x288 with 1 Axes>"
      ]
     },
     "metadata": {
      "needs_background": "light"
     },
     "output_type": "display_data"
    },
    {
     "data": {
      "text/plain": [
       "None"
      ]
     },
     "metadata": {},
     "output_type": "display_data"
    }
   ],
   "source": [
    "_ = make_fig(wt1_file,\"time_series_wt1_{}_trimmed.pdf\".format(names[0]),start_time,end_time,names)\n",
    "# _ = make_fig(wt2_file,\"time_series_rep2_trimmed.pdf\",start_time,end_time,names)"
   ]
  },
  {
   "cell_type": "code",
   "execution_count": 6,
   "metadata": {},
   "outputs": [
    {
     "name": "stdout",
     "output_type": "stream",
     "text": [
      "(0.0, [((26.0, 26.0), ('CDC20', 'min')), ((77.0, 77.0), ('CDC20', 'max')), ((98.0, 98.0), ('CDC20', 'min')), ((160.0, 160.0), ('CDC20', 'max')), ((170.0, 170.0), ('CDC20', 'min'))])\n",
      "(0.01, [((26.0, 32.0), ('CDC20', 'min')), ((66.0, 84.0), ('CDC20', 'max')), ((90.0, 105.0), ('CDC20', 'min')), ((154.0, 165.0), ('CDC20', 'max')), ((168.0, 170.0), ('CDC20', 'min'))])\n",
      "(0.02, [((26.0, 37.0), ('CDC20', 'min')), ((61.0, 88.0), ('CDC20', 'max')), ((86.0, 109.0), ('CDC20', 'min')), ((151.0, 167.0), ('CDC20', 'max')), ((167.0, 170.0), ('CDC20', 'min'))])\n",
      "(0.03, [((26.0, 41.0), ('CDC20', 'min')), ((56.0, 92.0), ('CDC20', 'max')), ((82.0, 111.0), ('CDC20', 'min')), ((149.0, 169.0), ('CDC20', 'max')), ((165.0, 170.0), ('CDC20', 'min'))])\n",
      "(0.04, [((26.0, 45.0), ('CDC20', 'min')), ((147.0, 170.0), ('CDC20', 'max')), ((163.0, 170.0), ('CDC20', 'min'))])\n",
      "(0.05, [((26.0, 49.0), ('CDC20', 'min')), ((145.0, 170.0), ('CDC20', 'max'))])\n"
     ]
    }
   ],
   "source": [
    "intervals = Berry.getintervals(wt1_file,\"row\",epsilons,names,start_time,end_time)\n",
    "for intv in intervals[names[0]]:\n",
    "    print(intv)"
   ]
  },
  {
   "cell_type": "code",
   "execution_count": 7,
   "metadata": {},
   "outputs": [],
   "source": [
    "def makeboxes(intervals,start_time,end_time,savename=\"intervals_CDC20.pdf\"):\n",
    "    marker = \"s\"\n",
    "    for k,i in enumerate(intervals):\n",
    "        eps = i[0]\n",
    "        ints = i[1]\n",
    "        for j in ints:\n",
    "            xl = (int(j[0][0]),int(j[0][1])+1)\n",
    "            x = list(range(*xl))\n",
    "            if j[1][1] == \"min\":\n",
    "                color = \"k\"\n",
    "            else:\n",
    "                color = \"r\"\n",
    "            if len(x) == 1:\n",
    "                alpha = 0.25\n",
    "            else:\n",
    "                alpha = 0.1\n",
    "            plt.plot(x,[eps]*len(x),linestyle=None,marker=marker,color=color,alpha=alpha)\n",
    "#     plt.xlim(start_time,end_time) \n",
    "    plt.yticks(epsilons)\n",
    "    plt.ylabel(r\"$\\mbox{{\\Huge$\\epsilon$}}$\")\n",
    "    plt.xlabel(r\"\\textbf{time points}\")\n",
    "    plt.savefig(savename, bbox_inches='tight') \n",
    "    display.display(plt.show())\n",
    "            \n",
    "    \n",
    "    \n"
   ]
  },
  {
   "cell_type": "code",
   "execution_count": 8,
   "metadata": {},
   "outputs": [
    {
     "data": {
      "image/png": "[encoded data removed]",
      "text/plain": [
       "<Figure size 432x288 with 1 Axes>"
      ]
     },
     "metadata": {
      "needs_background": "light"
     },
     "output_type": "display_data"
    },
    {
     "data": {
      "text/plain": [
       "None"
      ]
     },
     "metadata": {},
     "output_type": "display_data"
    }
   ],
   "source": [
    "makeboxes(intervals[names[0]],start_time,end_time)"
   ]
  },
  {
   "cell_type": "code",
   "execution_count": null,
   "metadata": {},
   "outputs": [],
   "source": [
    "def make_posets(p,network):\n",
    "    events = list(p[1][0])\n",
    "    event_ordering = list(p[1][1]) \n",
    "    poe = DSGRN.PosetOfExtrema(network, events, event_ordering)\n",
    "#     return poe,p[0]"
   ]
  },
  {
   "cell_type": "code",
   "execution_count": null,
   "metadata": {},
   "outputs": [
    {
     "name": "stdout",
     "output_type": "stream",
     "text": [
      "(0.0, ((('NDD1', 'max'), ('NDD1', 'min'), ('NDD1', 'max'), ('NDD1', 'min'), ('CDC20', 'min'), ('CDC20', 'max'), ('CDC20', 'min'), ('CDC20', 'max'), ('CDC20', 'min')), {(7, 3), (4, 7), (1, 3), (4, 8), (5, 6), (2, 8), (0, 7), (6, 2), (1, 6), (0, 3), (5, 8), (1, 2), (6, 7), (6, 3), (1, 5), (4, 1), (4, 5), (5, 2), (2, 3), (0, 5), (4, 2), (0, 8), (5, 3), (0, 1), (2, 7), (4, 6), (6, 8), (5, 7), (0, 6), (1, 8), (4, 3), (1, 7), (7, 8), (0, 2)}))\n",
      "(0.01, ((('NDD1', 'max'), ('NDD1', 'min'), ('NDD1', 'max'), ('NDD1', 'min'), ('CDC20', 'min'), ('CDC20', 'max'), ('CDC20', 'min'), ('CDC20', 'max'), ('CDC20', 'min')), {(7, 3), (4, 7), (1, 3), (4, 8), (5, 6), (2, 8), (0, 7), (6, 2), (1, 6), (0, 3), (5, 8), (1, 2), (6, 7), (6, 3), (1, 5), (4, 1), (4, 5), (5, 2), (2, 3), (0, 5), (4, 2), (0, 8), (5, 3), (0, 1), (2, 7), (4, 6), (6, 8), (5, 7), (0, 6), (1, 8), (4, 3), (1, 7), (7, 8), (0, 2)}))\n",
      "(0.02, ((('NDD1', 'max'), ('NDD1', 'min'), ('NDD1', 'max'), ('NDD1', 'min'), ('CDC20', 'min'), ('CDC20', 'max'), ('CDC20', 'min'), ('CDC20', 'max'), ('CDC20', 'min')), {(7, 3), (4, 7), (1, 3), (4, 8), (5, 6), (2, 8), (0, 7), (6, 2), (1, 6), (0, 3), (5, 8), (1, 2), (6, 7), (6, 3), (4, 1), (4, 5), (5, 2), (2, 3), (0, 5), (4, 2), (0, 8), (5, 3), (0, 1), (2, 7), (4, 6), (6, 8), (5, 7), (0, 6), (1, 8), (4, 3), (1, 7), (7, 8), (0, 2)}))\n",
      "(0.03, ((('NDD1', 'max'), ('NDD1', 'min'), ('NDD1', 'max'), ('NDD1', 'min'), ('CDC20', 'min'), ('CDC20', 'max'), ('CDC20', 'min'), ('CDC20', 'max'), ('CDC20', 'min')), {(4, 7), (1, 3), (4, 8), (5, 6), (2, 8), (0, 7), (1, 6), (0, 3), (5, 8), (1, 2), (6, 7), (6, 3), (4, 1), (4, 5), (5, 2), (2, 3), (0, 5), (4, 2), (0, 8), (5, 3), (0, 1), (2, 7), (4, 6), (6, 8), (5, 7), (0, 6), (1, 8), (4, 3), (1, 7), (7, 8), (0, 2)}))\n",
      "(0.04, ((('NDD1', 'max'), ('NDD1', 'min'), ('NDD1', 'max'), ('NDD1', 'min'), ('CDC20', 'min'), ('CDC20', 'max'), ('CDC20', 'min')), {(0, 1), (1, 2), (1, 3), (2, 6), (4, 6), (4, 5), (5, 6), (0, 6), (1, 5), (2, 5), (2, 3), (0, 5), (1, 6), (4, 3), (4, 2), (0, 3), (0, 2)}))\n",
      "(0.05, ((('NDD1', 'max'), ('NDD1', 'min'), ('NDD1', 'max'), ('NDD1', 'min'), ('CDC20', 'min'), ('CDC20', 'max')), {(0, 1), (1, 2), (1, 3), (4, 5), (1, 5), (2, 5), (2, 3), (0, 5), (4, 3), (4, 2), (0, 3), (0, 2)}))\n"
     ]
    }
   ],
   "source": [
    "names = [\"CDC20\",\"NDD1\"]\n",
    "\n",
    "posets1 = Berry.getposets(wt1_file,\"row\",epsilons,names,start_time,end_time)\n",
    "for p in posets1:\n",
    "    print(p)\n",
    "    "
   ]
  },
  {
   "cell_type": "code",
   "execution_count": null,
   "metadata": {},
   "outputs": [],
   "source": [
    "wavepool = DSGRN.Network(\"good_wavepool.txt\")\n",
    "# DSGRN.DrawGraph(wavepool)"
   ]
  },
  {
   "cell_type": "code",
   "execution_count": null,
   "metadata": {},
   "outputs": [],
   "source": [
    "for p in posets1:\n",
    "    poe, eps = make_posets(p,wavepool)\n",
    "    print(poe)\n",
    "#     display.display(DSGRN.DrawGraph(poe))\n",
    "#     with open(\"example_poset_app2_rep1_{}.dot\".format(int(eps*100)),\"w\") as f:\n",
    "#         f.write(poe.graphviz())\n"
   ]
  },
  {
   "cell_type": "code",
   "execution_count": null,
   "metadata": {},
   "outputs": [],
   "source": [
    "def change_labels(posets,start_name,end_name):\n",
    "    relabeled_posets = []\n",
    "    for eps,pos in posets:\n",
    "        extrema = pos[0]\n",
    "        newex = []\n",
    "        for ex in extrema:\n",
    "            if ex[0] == start_name:\n",
    "                newex.append((end_name,ex[1]))\n",
    "            else:\n",
    "                newex.append(ex)\n",
    "        newpos = (tuple(newex),pos[1])\n",
    "        relabeled_posets.append((eps,newpos))\n",
    "    return relabeled_posets\n",
    " "
   ]
  },
  {
   "cell_type": "code",
   "execution_count": null,
   "metadata": {},
   "outputs": [],
   "source": [
    "posets4 = change_labels(posets3,\"CLB2\",\"YOX1\")"
   ]
  },
  {
   "cell_type": "code",
   "execution_count": null,
   "metadata": {},
   "outputs": [],
   "source": [
    "def calc_dists(posets1,posets2,printme=False):\n",
    "    dists = []\n",
    "    sizes = []\n",
    "    for k,(p1,p2) in enumerate(zip(posets1,posets2)):\n",
    "        if printme:\n",
    "            print(\"Calculating for poset {} of {}...\".format(k+1,len(posets1)))\n",
    "        g1 = poset_distance.poset_to_nx_graph(p1[1])\n",
    "        g2 = poset_distance.poset_to_nx_graph(p2[1])\n",
    "        sizes.append((len(g1.nodes())+len(g1.edges()), len(g2.nodes())+len(g2.edges())))\n",
    "        dists.append(poset_distance.dag_distance(g1,g2))\n",
    "    return dists,sizes\n"
   ]
  },
  {
   "cell_type": "code",
   "execution_count": null,
   "metadata": {},
   "outputs": [],
   "source": [
    "def plot_dists(epsilons,dists,label=\"\",ylabel=\"Poset distance\",ylim=[0,1]):\n",
    "    plt.plot(epsilons,dists,linewidth=2,label=label)\n",
    "    plt.xlabel(r\"$\\mathrm{\\epsilon}$\",fontsize=30)\n",
    "    plt.ylabel(ylabel)\n",
    "    plt.ylim(ylim)\n",
    "    plt.legend()"
   ]
  },
  {
   "cell_type": "code",
   "execution_count": null,
   "metadata": {},
   "outputs": [],
   "source": [
    "dists12,sizes12 = calc_dists(posets1,posets2)\n",
    "dists13,sizes13 = calc_dists(posets1,posets3)\n",
    "dists14,sizes14 = calc_dists(posets1,posets4)\n"
   ]
  },
  {
   "cell_type": "code",
   "execution_count": null,
   "metadata": {},
   "outputs": [],
   "source": [
    "ylim=[0,1]\n",
    "print(\"Distance with same genes.\")\n",
    "plot_dists(epsilons,dists12,ylabel=\"Poset distance\",label=r\"$YOX1$/$YOX1$\",ylim=ylim)\n",
    "print(\"Distance with one swapped gene.\")\n",
    "plot_dists(epsilons,dists13,ylabel=\"Poset distance\",label=r\"$YOX1$/$CLB2$\",ylim=ylim)\n",
    "print(\"Distance with one swapped gene relabeled.\")\n",
    "plot_dists(epsilons,dists14,ylabel=\"Poset distance\",label=r\"$CLB2$ relabeled\",ylim=ylim)\n",
    "plt.savefig(\"poset_distances.pdf\", bbox_inches='tight') "
   ]
  },
  {
   "cell_type": "code",
   "execution_count": null,
   "metadata": {},
   "outputs": [],
   "source": [
    "ylim = [0.0,1.0]\n",
    "print(\"Similarity with same genes.\")\n",
    "plot_dists(epsilons,[1-n for n in dists12],ylabel=\"Similarity\",label=r\"$YOX1$/$YOX1$\",ylim=ylim)\n",
    "print(\"Similarity with one swapped gene.\")\n",
    "plot_dists(epsilons,[1-n for n in dists13],ylabel=\"Similarity\",label=r\"$YOX1$/$CLB2$\",ylim=ylim)\n",
    "print(\"Similarity with one swapped gene relabeled.\")\n",
    "plot_dists(epsilons,[1-n for n in dists14],ylabel=\"Similarity\",label=r\"$CLB2$ relabeled\",ylim=ylim)\n",
    "plt.savefig(\"similarity.pdf\", bbox_inches='tight') "
   ]
  },
  {
   "cell_type": "code",
   "execution_count": null,
   "metadata": {},
   "outputs": [],
   "source": [
    "all_names = make_fig(wt1_file,\"time_series_rep1_trimmed_all.pdf\",start_time,end_time)\n",
    "_ = make_fig(wt2_file,\"time_series_rep2_trimmed_all.pdf\",start_time,end_time)"
   ]
  },
  {
   "cell_type": "code",
   "execution_count": null,
   "metadata": {},
   "outputs": [],
   "source": [
    "Nexps = 100\n",
    "epsilons = [0.01*x for x in range(16)]\n",
    "random.seed(10)\n",
    "\n",
    "alldists_8 = [] \n",
    "\n",
    "for _ in range(Nexps):\n",
    "    names = random.sample(all_names,8)\n",
    "    posets1 = Berry.getposets(wt1_file,\"row\",epsilons,names,start_time,end_time)\n",
    "    posets2 = Berry.getposets(wt2_file,\"row\",epsilons,names,start_time,end_time)\n",
    "    dists,sizes=calc_dists(posets1,posets2)\n",
    "    alldists_8.append(dists)\n",
    "    \n",
    "alldists_4 = [] \n",
    "\n",
    "for _ in range(Nexps):\n",
    "    names = random.sample(all_names,4)\n",
    "    posets1 = Berry.getposets(wt1_file,\"row\",epsilons,names,start_time,end_time)\n",
    "    posets2 = Berry.getposets(wt2_file,\"row\",epsilons,names,start_time,end_time)\n",
    "    dists,sizes=calc_dists(posets1,posets2)\n",
    "    alldists_4.append(dists)"
   ]
  },
  {
   "cell_type": "code",
   "execution_count": null,
   "metadata": {},
   "outputs": [],
   "source": [
    "from math import sqrt\n",
    "def plot_sim_many(epsilons,alldists,ylabel=\"Similarity\",ylim=[0,1.0]):\n",
    "    fig = plt.figure()\n",
    "    ax = fig.add_subplot(1,1,1)\n",
    "#     ax.set_axisbelow(True)\n",
    "    for ndist in alldists:\n",
    "        plt.plot(epsilons,[1-n for n in ndist],linewidth=0.5,color='tab:gray')\n",
    "    msim = []\n",
    "    ssim = []\n",
    "    for i in range(len(epsilons)):\n",
    "        l = [1-n[i] for n in alldists]\n",
    "        mu = sum(l)/len(l)\n",
    "        msim.append(mu)\n",
    "        std = sqrt(sum((a-mu)**2 for a in l) / (len(l)-1))\n",
    "        ssim.append(std)\n",
    "    plt.errorbar(epsilons,msim,ssim,linewidth=3,color=\"k\",zorder=500)\n",
    "    plt.ylim(ylim)\n",
    "    plt.xlabel(r\"$\\mathrm{\\epsilon}$\",fontsize=30)\n",
    "    plt.ylabel(ylabel)\n"
   ]
  },
  {
   "cell_type": "code",
   "execution_count": null,
   "metadata": {},
   "outputs": [],
   "source": [
    "plot_sim_many(epsilons,alldists_4)\n",
    "plt.savefig(\"similarity_mean_of_many_4.pdf\",bbox_inches='tight') "
   ]
  },
  {
   "cell_type": "code",
   "execution_count": null,
   "metadata": {},
   "outputs": [],
   "source": [
    "plot_sim_many(epsilons,alldists_8)\n",
    "plt.savefig(\"similarity_mean_of_many_8.pdf\",bbox_inches='tight') "
   ]
  },
  {
   "cell_type": "code",
   "execution_count": null,
   "metadata": {},
   "outputs": [],
   "source": []
  }
 ],
 "metadata": {
  "kernelspec": {
   "display_name": "Python 3",
   "language": "python",
   "name": "python3"
  },
  "language_info": {
   "codemirror_mode": {
    "name": "ipython",
    "version": 3
   },
   "file_extension": ".py",
   "mimetype": "text/x-python",
   "name": "python",
   "nbconvert_exporter": "python",
   "pygments_lexer": "ipython3",
   "version": "3.7.3"
  }
 },
 "nbformat": 4,
 "nbformat_minor": 2
}
