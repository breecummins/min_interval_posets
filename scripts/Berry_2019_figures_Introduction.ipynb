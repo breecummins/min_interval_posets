{
 "cells": [
  {
   "cell_type": "markdown",
   "metadata": {},
   "source": [
    "## Introduction"
   ]
  },
  {
   "cell_type": "code",
   "execution_count": 1,
   "metadata": {},
   "outputs": [],
   "source": [
    "import DSGRN\n",
    "import Berry_2019_figures_results as Berry\n",
    "from min_interval_posets import posets, poset_distance\n",
    "from copy import deepcopy\n",
    "from numpy import linspace\n",
    "from IPython import display\n",
    "import matplotlib.pyplot as plt\n",
    "# from matplotlib import cm\n",
    "from importlib import reload\n",
    "from matplotlib import rc\n",
    "rc('text', usetex=True)\n",
    "fontsize=20\n",
    "rc('axes', labelsize=fontsize)    # fontsize of the x and y labels\n",
    "rc('xtick', labelsize=fontsize)    # fontsize of the tick labels\n",
    "rc('ytick', labelsize=fontsize)    # fontsize of the tick labels\n",
    "rc('legend', fontsize=12)    # legend fontsize\n",
    "%matplotlib inline"
   ]
  },
  {
   "cell_type": "code",
   "execution_count": 2,
   "metadata": {},
   "outputs": [],
   "source": [
    "wt1_file = \"WT1_WT2_microarray_interpolated/wt1_microarray_coregenes_lifepoints_interpol_trim.csv\"\n",
    "wt2_file = \"WT1_WT2_microarray_interpolated/wt2_microarray_coregenes_lifepoints_interpol.csv\"\n"
   ]
  },
  {
   "cell_type": "code",
   "execution_count": 3,
   "metadata": {},
   "outputs": [],
   "source": [
    "# graph data\n",
    "def make_fig(fname,savename,start_time=None,end_time=None,names=None):\n",
    "    curves = Berry.row(fname)\n",
    "    subset_curves = deepcopy(curves)\n",
    "    if names is not None:\n",
    "        for name in curves:\n",
    "            if name not in names:\n",
    "                subset_curves.pop(name)\n",
    "    for name,curve in sorted(subset_curves.items()):\n",
    "        n = curve.normalize()\n",
    "        if start_time is not None and end_time is not None:\n",
    "            n = curve.trim(start_time,end_time)\n",
    "        times,vals = zip(*n.items())\n",
    "        plt.plot(times,vals,label=r\"${}$\".format(name))\n",
    "    lgd = plt.legend(loc='upper left', bbox_to_anchor=(1, 1))\n",
    "    plt.ylabel(r\"\\textbf{normalized expression}\")\n",
    "    plt.xlabel(r\"\\textbf{time points}\")\n",
    "    plt.savefig(savename,bbox_extra_artists=(lgd,), bbox_inches='tight') \n",
    "    plt.savefig(savename, bbox_inches='tight') \n",
    "    display.display(plt.show())\n",
    "    return [name for name in sorted(curves)]\n",
    "    "
   ]
  },
  {
   "cell_type": "code",
   "execution_count": 4,
   "metadata": {},
   "outputs": [],
   "source": [
    "start_time = 26\n",
    "end_time = 170\n",
    "names = [\"CDC20\"]\n",
    "epsilons = [0.00, 0.01, 0.02, 0.03, 0.04, 0.05]\n",
    "\n"
   ]
  },
  {
   "cell_type": "code",
   "execution_count": 5,
   "metadata": {},
   "outputs": [
    {
     "data": {
      "image/png": "[encoded data removed]",
      "text/plain": [
       "<Figure size 432x288 with 1 Axes>"
      ]
     },
     "metadata": {
      "needs_background": "light"
     },
     "output_type": "display_data"
    },
    {
     "data": {
      "text/plain": [
       "None"
      ]
     },
     "metadata": {},
     "output_type": "display_data"
    }
   ],
   "source": [
    "_ = make_fig(wt1_file,\"time_series_wt1_{}_trimmed.pdf\".format(names[0]),start_time,end_time,names)\n",
    "# _ = make_fig(wt2_file,\"time_series_rep2_trimmed.pdf\",start_time,end_time,names)"
   ]
  },
  {
   "cell_type": "code",
   "execution_count": 6,
   "metadata": {},
   "outputs": [
    {
     "name": "stdout",
     "output_type": "stream",
     "text": [
      "(0.0, [((26.0, 26.0), ('CDC20', 'min')), ((77.0, 77.0), ('CDC20', 'max')), ((98.0, 98.0), ('CDC20', 'min')), ((160.0, 160.0), ('CDC20', 'max')), ((170.0, 170.0), ('CDC20', 'min'))])\n",
      "(0.01, [((26.0, 32.0), ('CDC20', 'min')), ((66.0, 84.0), ('CDC20', 'max')), ((90.0, 105.0), ('CDC20', 'min')), ((154.0, 165.0), ('CDC20', 'max')), ((168.0, 170.0), ('CDC20', 'min'))])\n",
      "(0.02, [((26.0, 37.0), ('CDC20', 'min')), ((61.0, 88.0), ('CDC20', 'max')), ((86.0, 109.0), ('CDC20', 'min')), ((151.0, 167.0), ('CDC20', 'max')), ((167.0, 170.0), ('CDC20', 'min'))])\n",
      "(0.03, [((26.0, 41.0), ('CDC20', 'min')), ((56.0, 92.0), ('CDC20', 'max')), ((82.0, 111.0), ('CDC20', 'min')), ((149.0, 169.0), ('CDC20', 'max')), ((165.0, 170.0), ('CDC20', 'min'))])\n",
      "(0.04, [((26.0, 45.0), ('CDC20', 'min')), ((147.0, 170.0), ('CDC20', 'max')), ((163.0, 170.0), ('CDC20', 'min'))])\n",
      "(0.05, [((26.0, 49.0), ('CDC20', 'min')), ((145.0, 170.0), ('CDC20', 'max'))])\n"
     ]
    }
   ],
   "source": [
    "intervals = Berry.getintervals(wt1_file,\"row\",epsilons,names,start_time,end_time)\n",
    "for intv in intervals[names[0]]:\n",
    "    print(intv)"
   ]
  },
  {
   "cell_type": "code",
   "execution_count": 7,
   "metadata": {},
   "outputs": [],
   "source": [
    "def makeboxes(intervals,start_time,end_time,savename=\"intervals_CDC20.pdf\"):\n",
    "    marker = \"s\"\n",
    "    for k,i in enumerate(intervals):\n",
    "        eps = i[0]\n",
    "        ints = i[1]\n",
    "        for j in ints:\n",
    "            xl = (int(j[0][0]),int(j[0][1])+1)\n",
    "            x = list(range(*xl))\n",
    "            if j[1][1] == \"min\":\n",
    "                color = \"k\"\n",
    "            else:\n",
    "                color = \"r\"\n",
    "            if len(x) == 1:\n",
    "                alpha = 0.25\n",
    "            else:\n",
    "                alpha = 0.1\n",
    "            plt.plot(x,[eps]*len(x),linestyle=None,marker=marker,color=color,alpha=alpha)\n",
    "#     plt.xlim(start_time,end_time) \n",
    "    plt.yticks(epsilons)\n",
    "    plt.ylabel(r\"$\\mbox{{\\Huge$\\epsilon$}}$\")\n",
    "    plt.xlabel(r\"\\textbf{time points}\")\n",
    "    plt.savefig(savename, bbox_inches='tight') \n",
    "    display.display(plt.show())\n",
    "            \n",
    "    \n",
    "    \n"
   ]
  },
  {
   "cell_type": "code",
   "execution_count": 8,
   "metadata": {},
   "outputs": [
    {
     "data": {
      "image/png": "[encoded data removed]",
      "text/plain": [
       "<Figure size 432x288 with 1 Axes>"
      ]
     },
     "metadata": {
      "needs_background": "light"
     },
     "output_type": "display_data"
    },
    {
     "data": {
      "text/plain": [
       "None"
      ]
     },
     "metadata": {},
     "output_type": "display_data"
    }
   ],
   "source": [
    "makeboxes(intervals[names[0]],start_time,end_time)"
   ]
  },
  {
   "cell_type": "code",
   "execution_count": 9,
   "metadata": {},
   "outputs": [
    {
     "data": {
      "image/png": "[encoded data removed]",
      "text/plain": [
       "<Figure size 432x288 with 1 Axes>"
      ]
     },
     "metadata": {
      "needs_background": "light"
     },
     "output_type": "display_data"
    },
    {
     "data": {
      "text/plain": [
       "None"
      ]
     },
     "metadata": {},
     "output_type": "display_data"
    }
   ],
   "source": [
    "names = [\"CDC20\",\"NDD1\"]\n",
    "epsilons = [0.0,0.03,0.05]\n",
    "_ = make_fig(wt1_file,\"time_series_wt1_{}_{}_trimmed.pdf\".format(names[0],names[1]),start_time,end_time,names)\n",
    "\n",
    "posets1 = Berry.getposets(wt1_file,\"row\",epsilons,names,start_time,end_time)\n",
    "\n"
   ]
  },
  {
   "cell_type": "code",
   "execution_count": 10,
   "metadata": {},
   "outputs": [
    {
     "data": {
      "text/plain": [
       "'CDC20 : CDC20\\nNDD1 : NDD1'"
      ]
     },
     "execution_count": 10,
     "metadata": {},
     "output_type": "execute_result"
    }
   ],
   "source": [
    "network = DSGRN.Network(\"\\n\".join([\"{} : {}\".format(name,name) for name in names]))\n",
    "network.specification()"
   ]
  },
  {
   "cell_type": "code",
   "execution_count": 11,
   "metadata": {},
   "outputs": [],
   "source": [
    "def make_posets(p,network):\n",
    "    events = list(p[1][0])\n",
    "    event_ordering = list(p[1][1]) \n",
    "    poe = DSGRN.PosetOfExtrema(network, events, event_ordering)\n",
    "    return poe,p[0]"
   ]
  },
  {
   "cell_type": "code",
   "execution_count": 12,
   "metadata": {},
   "outputs": [
    {
     "name": "stdout",
     "output_type": "stream",
     "text": [
      "Epsilon = 0.0\n"
     ]
    },
    {
     "data": {
      "image/svg+xml": [
       "<?xml version=\"1.0\" encoding=\"UTF-8\" standalone=\"no\"?>\n",
       "<!DOCTYPE svg PUBLIC \"-//W3C//DTD SVG 1.1//EN\"\n",
       " \"http://www.w3.org/Graphics/SVG/1.1/DTD/svg11.dtd\">\n",
       "<!-- Generated by graphviz version 2.40.1 (20161225.0304)\n",
       " -->\n",
       "<!-- Title: %3 Pages: 1 -->\n",
       "<svg width=\"234pt\" height=\"476pt\"\n",
       " viewBox=\"0.00 0.00 234.23 476.00\" xmlns=\"http://www.w3.org/2000/svg\" xmlns:xlink=\"http://www.w3.org/1999/xlink\">\n",
       "<g id=\"graph0\" class=\"graph\" transform=\"scale(1 1) rotate(0) translate(4 472)\">\n",
       "<title>%3</title>\n",
       "<polygon fill=\"#ffffff\" stroke=\"transparent\" points=\"-4,4 -4,-472 230.2266,-472 230.2266,4 -4,4\"/>\n",
       "<!-- 0 -->\n",
       "<g id=\"node1\" class=\"node\">\n",
       "<title>0</title>\n",
       "<ellipse fill=\"none\" stroke=\"#000000\" cx=\"51.1244\" cy=\"-450\" rx=\"51.2492\" ry=\"18\"/>\n",
       "<text text-anchor=\"middle\" x=\"51.1244\" y=\"-445.8\" font-family=\"Times,serif\" font-size=\"14.00\" fill=\"#000000\">NDD1 max</text>\n",
       "</g>\n",
       "<!-- 1 -->\n",
       "<g id=\"node2\" class=\"node\">\n",
       "<title>1</title>\n",
       "<ellipse fill=\"none\" stroke=\"#000000\" cx=\"112.1244\" cy=\"-378\" rx=\"49.8131\" ry=\"18\"/>\n",
       "<text text-anchor=\"middle\" x=\"112.1244\" y=\"-373.8\" font-family=\"Times,serif\" font-size=\"14.00\" fill=\"#000000\">NDD1 min</text>\n",
       "</g>\n",
       "<!-- 0&#45;&gt;1 -->\n",
       "<g id=\"edge1\" class=\"edge\">\n",
       "<title>0&#45;&gt;1</title>\n",
       "<path fill=\"none\" stroke=\"#000000\" d=\"M65.8908,-432.5708C73.3836,-423.7269 82.6209,-412.8239 90.8639,-403.0945\"/>\n",
       "<polygon fill=\"#000000\" stroke=\"#000000\" points=\"93.7003,-405.161 97.494,-395.2687 88.3594,-400.6361 93.7003,-405.161\"/>\n",
       "</g>\n",
       "<!-- 5 -->\n",
       "<g id=\"node6\" class=\"node\">\n",
       "<title>5</title>\n",
       "<ellipse fill=\"none\" stroke=\"#000000\" cx=\"112.1244\" cy=\"-306\" rx=\"54.6407\" ry=\"18\"/>\n",
       "<text text-anchor=\"middle\" x=\"112.1244\" y=\"-301.8\" font-family=\"Times,serif\" font-size=\"14.00\" fill=\"#000000\">CDC20 max</text>\n",
       "</g>\n",
       "<!-- 1&#45;&gt;5 -->\n",
       "<g id=\"edge2\" class=\"edge\">\n",
       "<title>1&#45;&gt;5</title>\n",
       "<path fill=\"none\" stroke=\"#000000\" d=\"M112.1244,-359.8314C112.1244,-352.131 112.1244,-342.9743 112.1244,-334.4166\"/>\n",
       "<polygon fill=\"#000000\" stroke=\"#000000\" points=\"115.6245,-334.4132 112.1244,-324.4133 108.6245,-334.4133 115.6245,-334.4132\"/>\n",
       "</g>\n",
       "<!-- 2 -->\n",
       "<g id=\"node3\" class=\"node\">\n",
       "<title>2</title>\n",
       "<ellipse fill=\"none\" stroke=\"#000000\" cx=\"112.1244\" cy=\"-162\" rx=\"51.2492\" ry=\"18\"/>\n",
       "<text text-anchor=\"middle\" x=\"112.1244\" y=\"-157.8\" font-family=\"Times,serif\" font-size=\"14.00\" fill=\"#000000\">NDD1 max</text>\n",
       "</g>\n",
       "<!-- 7 -->\n",
       "<g id=\"node8\" class=\"node\">\n",
       "<title>7</title>\n",
       "<ellipse fill=\"none\" stroke=\"#000000\" cx=\"112.1244\" cy=\"-90\" rx=\"54.6407\" ry=\"18\"/>\n",
       "<text text-anchor=\"middle\" x=\"112.1244\" y=\"-85.8\" font-family=\"Times,serif\" font-size=\"14.00\" fill=\"#000000\">CDC20 max</text>\n",
       "</g>\n",
       "<!-- 2&#45;&gt;7 -->\n",
       "<g id=\"edge3\" class=\"edge\">\n",
       "<title>2&#45;&gt;7</title>\n",
       "<path fill=\"none\" stroke=\"#000000\" d=\"M112.1244,-143.8314C112.1244,-136.131 112.1244,-126.9743 112.1244,-118.4166\"/>\n",
       "<polygon fill=\"#000000\" stroke=\"#000000\" points=\"115.6245,-118.4132 112.1244,-108.4133 108.6245,-118.4133 115.6245,-118.4132\"/>\n",
       "</g>\n",
       "<!-- 3 -->\n",
       "<g id=\"node4\" class=\"node\">\n",
       "<title>3</title>\n",
       "<ellipse fill=\"none\" stroke=\"#000000\" cx=\"52.1244\" cy=\"-18\" rx=\"49.8131\" ry=\"18\"/>\n",
       "<text text-anchor=\"middle\" x=\"52.1244\" y=\"-13.8\" font-family=\"Times,serif\" font-size=\"14.00\" fill=\"#000000\">NDD1 min</text>\n",
       "</g>\n",
       "<!-- 4 -->\n",
       "<g id=\"node5\" class=\"node\">\n",
       "<title>4</title>\n",
       "<ellipse fill=\"none\" stroke=\"#000000\" cx=\"173.1244\" cy=\"-450\" rx=\"53.2045\" ry=\"18\"/>\n",
       "<text text-anchor=\"middle\" x=\"173.1244\" y=\"-445.8\" font-family=\"Times,serif\" font-size=\"14.00\" fill=\"#000000\">CDC20 min</text>\n",
       "</g>\n",
       "<!-- 4&#45;&gt;1 -->\n",
       "<g id=\"edge4\" class=\"edge\">\n",
       "<title>4&#45;&gt;1</title>\n",
       "<path fill=\"none\" stroke=\"#000000\" d=\"M158.358,-432.5708C150.8653,-423.7269 141.628,-412.8239 133.385,-403.0945\"/>\n",
       "<polygon fill=\"#000000\" stroke=\"#000000\" points=\"135.8895,-400.6361 126.7549,-395.2687 130.5486,-405.161 135.8895,-400.6361\"/>\n",
       "</g>\n",
       "<!-- 6 -->\n",
       "<g id=\"node7\" class=\"node\">\n",
       "<title>6</title>\n",
       "<ellipse fill=\"none\" stroke=\"#000000\" cx=\"112.1244\" cy=\"-234\" rx=\"53.2045\" ry=\"18\"/>\n",
       "<text text-anchor=\"middle\" x=\"112.1244\" y=\"-229.8\" font-family=\"Times,serif\" font-size=\"14.00\" fill=\"#000000\">CDC20 min</text>\n",
       "</g>\n",
       "<!-- 5&#45;&gt;6 -->\n",
       "<g id=\"edge5\" class=\"edge\">\n",
       "<title>5&#45;&gt;6</title>\n",
       "<path fill=\"none\" stroke=\"#000000\" d=\"M112.1244,-287.8314C112.1244,-280.131 112.1244,-270.9743 112.1244,-262.4166\"/>\n",
       "<polygon fill=\"#000000\" stroke=\"#000000\" points=\"115.6245,-262.4132 112.1244,-252.4133 108.6245,-262.4133 115.6245,-262.4132\"/>\n",
       "</g>\n",
       "<!-- 6&#45;&gt;2 -->\n",
       "<g id=\"edge6\" class=\"edge\">\n",
       "<title>6&#45;&gt;2</title>\n",
       "<path fill=\"none\" stroke=\"#000000\" d=\"M112.1244,-215.8314C112.1244,-208.131 112.1244,-198.9743 112.1244,-190.4166\"/>\n",
       "<polygon fill=\"#000000\" stroke=\"#000000\" points=\"115.6245,-190.4132 112.1244,-180.4133 108.6245,-190.4133 115.6245,-190.4132\"/>\n",
       "</g>\n",
       "<!-- 7&#45;&gt;3 -->\n",
       "<g id=\"edge7\" class=\"edge\">\n",
       "<title>7&#45;&gt;3</title>\n",
       "<path fill=\"none\" stroke=\"#000000\" d=\"M97.6001,-72.5708C90.2302,-63.7269 81.1444,-52.8239 73.0365,-43.0945\"/>\n",
       "<polygon fill=\"#000000\" stroke=\"#000000\" points=\"75.6057,-40.7103 66.515,-35.2687 70.2281,-45.1916 75.6057,-40.7103\"/>\n",
       "</g>\n",
       "<!-- 8 -->\n",
       "<g id=\"node9\" class=\"node\">\n",
       "<title>8</title>\n",
       "<ellipse fill=\"none\" stroke=\"#000000\" cx=\"173.1244\" cy=\"-18\" rx=\"53.2045\" ry=\"18\"/>\n",
       "<text text-anchor=\"middle\" x=\"173.1244\" y=\"-13.8\" font-family=\"Times,serif\" font-size=\"14.00\" fill=\"#000000\">CDC20 min</text>\n",
       "</g>\n",
       "<!-- 7&#45;&gt;8 -->\n",
       "<g id=\"edge8\" class=\"edge\">\n",
       "<title>7&#45;&gt;8</title>\n",
       "<path fill=\"none\" stroke=\"#000000\" d=\"M126.8908,-72.5708C134.3285,-63.7919 143.4851,-52.9841 151.6819,-43.3093\"/>\n",
       "<polygon fill=\"#000000\" stroke=\"#000000\" points=\"154.4888,-45.4106 158.2826,-35.5182 149.1479,-40.8856 154.4888,-45.4106\"/>\n",
       "</g>\n",
       "</g>\n",
       "</svg>\n"
      ],
      "text/plain": [
       "<graphviz.files.Source at 0xa253a74a8>"
      ]
     },
     "metadata": {},
     "output_type": "display_data"
    },
    {
     "name": "stdout",
     "output_type": "stream",
     "text": [
      "Epsilon = 0.03\n"
     ]
    },
    {
     "data": {
      "image/svg+xml": [
       "<?xml version=\"1.0\" encoding=\"UTF-8\" standalone=\"no\"?>\n",
       "<!DOCTYPE svg PUBLIC \"-//W3C//DTD SVG 1.1//EN\"\n",
       " \"http://www.w3.org/Graphics/SVG/1.1/DTD/svg11.dtd\">\n",
       "<!-- Generated by graphviz version 2.40.1 (20161225.0304)\n",
       " -->\n",
       "<!-- Title: %3 Pages: 1 -->\n",
       "<svg width=\"236pt\" height=\"332pt\"\n",
       " viewBox=\"0.00 0.00 235.69 332.00\" xmlns=\"http://www.w3.org/2000/svg\" xmlns:xlink=\"http://www.w3.org/1999/xlink\">\n",
       "<g id=\"graph0\" class=\"graph\" transform=\"scale(1 1) rotate(0) translate(4 328)\">\n",
       "<title>%3</title>\n",
       "<polygon fill=\"#ffffff\" stroke=\"transparent\" points=\"-4,4 -4,-328 231.6947,-328 231.6947,4 -4,4\"/>\n",
       "<!-- 0 -->\n",
       "<g id=\"node1\" class=\"node\">\n",
       "<title>0</title>\n",
       "<ellipse fill=\"none\" stroke=\"#000000\" cx=\"51.1244\" cy=\"-306\" rx=\"51.2492\" ry=\"18\"/>\n",
       "<text text-anchor=\"middle\" x=\"51.1244\" y=\"-301.8\" font-family=\"Times,serif\" font-size=\"14.00\" fill=\"#000000\">NDD1 max</text>\n",
       "</g>\n",
       "<!-- 1 -->\n",
       "<g id=\"node2\" class=\"node\">\n",
       "<title>1</title>\n",
       "<ellipse fill=\"none\" stroke=\"#000000\" cx=\"51.1244\" cy=\"-234\" rx=\"49.8131\" ry=\"18\"/>\n",
       "<text text-anchor=\"middle\" x=\"51.1244\" y=\"-229.8\" font-family=\"Times,serif\" font-size=\"14.00\" fill=\"#000000\">NDD1 min</text>\n",
       "</g>\n",
       "<!-- 0&#45;&gt;1 -->\n",
       "<g id=\"edge1\" class=\"edge\">\n",
       "<title>0&#45;&gt;1</title>\n",
       "<path fill=\"none\" stroke=\"#000000\" d=\"M51.1244,-287.8314C51.1244,-280.131 51.1244,-270.9743 51.1244,-262.4166\"/>\n",
       "<polygon fill=\"#000000\" stroke=\"#000000\" points=\"54.6245,-262.4132 51.1244,-252.4133 47.6245,-262.4133 54.6245,-262.4132\"/>\n",
       "</g>\n",
       "<!-- 5 -->\n",
       "<g id=\"node6\" class=\"node\">\n",
       "<title>5</title>\n",
       "<ellipse fill=\"none\" stroke=\"#000000\" cx=\"173.1244\" cy=\"-234\" rx=\"54.6407\" ry=\"18\"/>\n",
       "<text text-anchor=\"middle\" x=\"173.1244\" y=\"-229.8\" font-family=\"Times,serif\" font-size=\"14.00\" fill=\"#000000\">CDC20 max</text>\n",
       "</g>\n",
       "<!-- 0&#45;&gt;5 -->\n",
       "<g id=\"edge2\" class=\"edge\">\n",
       "<title>0&#45;&gt;5</title>\n",
       "<path fill=\"none\" stroke=\"#000000\" d=\"M77.5966,-290.3771C95.1414,-280.0228 118.3682,-266.3152 137.5256,-255.0091\"/>\n",
       "<polygon fill=\"#000000\" stroke=\"#000000\" points=\"139.4494,-257.9379 146.2826,-249.8411 135.8916,-251.9094 139.4494,-257.9379\"/>\n",
       "</g>\n",
       "<!-- 2 -->\n",
       "<g id=\"node3\" class=\"node\">\n",
       "<title>2</title>\n",
       "<ellipse fill=\"none\" stroke=\"#000000\" cx=\"51.1244\" cy=\"-162\" rx=\"51.2492\" ry=\"18\"/>\n",
       "<text text-anchor=\"middle\" x=\"51.1244\" y=\"-157.8\" font-family=\"Times,serif\" font-size=\"14.00\" fill=\"#000000\">NDD1 max</text>\n",
       "</g>\n",
       "<!-- 1&#45;&gt;2 -->\n",
       "<g id=\"edge3\" class=\"edge\">\n",
       "<title>1&#45;&gt;2</title>\n",
       "<path fill=\"none\" stroke=\"#000000\" d=\"M51.1244,-215.8314C51.1244,-208.131 51.1244,-198.9743 51.1244,-190.4166\"/>\n",
       "<polygon fill=\"#000000\" stroke=\"#000000\" points=\"54.6245,-190.4132 51.1244,-180.4133 47.6245,-190.4133 54.6245,-190.4132\"/>\n",
       "</g>\n",
       "<!-- 6 -->\n",
       "<g id=\"node7\" class=\"node\">\n",
       "<title>6</title>\n",
       "<ellipse fill=\"none\" stroke=\"#000000\" cx=\"173.1244\" cy=\"-162\" rx=\"53.2045\" ry=\"18\"/>\n",
       "<text text-anchor=\"middle\" x=\"173.1244\" y=\"-157.8\" font-family=\"Times,serif\" font-size=\"14.00\" fill=\"#000000\">CDC20 min</text>\n",
       "</g>\n",
       "<!-- 1&#45;&gt;6 -->\n",
       "<g id=\"edge4\" class=\"edge\">\n",
       "<title>1&#45;&gt;6</title>\n",
       "<path fill=\"none\" stroke=\"#000000\" d=\"M77.2965,-218.5542C94.9457,-208.1383 118.4447,-194.27 137.7551,-182.8737\"/>\n",
       "<polygon fill=\"#000000\" stroke=\"#000000\" points=\"139.7415,-185.7655 146.5747,-177.6687 136.1837,-179.7371 139.7415,-185.7655\"/>\n",
       "</g>\n",
       "<!-- 3 -->\n",
       "<g id=\"node4\" class=\"node\">\n",
       "<title>3</title>\n",
       "<ellipse fill=\"none\" stroke=\"#000000\" cx=\"51.1244\" cy=\"-90\" rx=\"49.8131\" ry=\"18\"/>\n",
       "<text text-anchor=\"middle\" x=\"51.1244\" y=\"-85.8\" font-family=\"Times,serif\" font-size=\"14.00\" fill=\"#000000\">NDD1 min</text>\n",
       "</g>\n",
       "<!-- 2&#45;&gt;3 -->\n",
       "<g id=\"edge5\" class=\"edge\">\n",
       "<title>2&#45;&gt;3</title>\n",
       "<path fill=\"none\" stroke=\"#000000\" d=\"M51.1244,-143.8314C51.1244,-136.131 51.1244,-126.9743 51.1244,-118.4166\"/>\n",
       "<polygon fill=\"#000000\" stroke=\"#000000\" points=\"54.6245,-118.4132 51.1244,-108.4133 47.6245,-118.4133 54.6245,-118.4132\"/>\n",
       "</g>\n",
       "<!-- 7 -->\n",
       "<g id=\"node8\" class=\"node\">\n",
       "<title>7</title>\n",
       "<ellipse fill=\"none\" stroke=\"#000000\" cx=\"173.1244\" cy=\"-90\" rx=\"54.6407\" ry=\"18\"/>\n",
       "<text text-anchor=\"middle\" x=\"173.1244\" y=\"-85.8\" font-family=\"Times,serif\" font-size=\"14.00\" fill=\"#000000\">CDC20 max</text>\n",
       "</g>\n",
       "<!-- 2&#45;&gt;7 -->\n",
       "<g id=\"edge6\" class=\"edge\">\n",
       "<title>2&#45;&gt;7</title>\n",
       "<path fill=\"none\" stroke=\"#000000\" d=\"M77.5966,-146.3771C95.1414,-136.0228 118.3682,-122.3152 137.5256,-111.0091\"/>\n",
       "<polygon fill=\"#000000\" stroke=\"#000000\" points=\"139.4494,-113.9379 146.2826,-105.8411 135.8916,-107.9094 139.4494,-113.9379\"/>\n",
       "</g>\n",
       "<!-- 4 -->\n",
       "<g id=\"node5\" class=\"node\">\n",
       "<title>4</title>\n",
       "<ellipse fill=\"none\" stroke=\"#000000\" cx=\"173.1244\" cy=\"-306\" rx=\"53.2045\" ry=\"18\"/>\n",
       "<text text-anchor=\"middle\" x=\"173.1244\" y=\"-301.8\" font-family=\"Times,serif\" font-size=\"14.00\" fill=\"#000000\">CDC20 min</text>\n",
       "</g>\n",
       "<!-- 4&#45;&gt;1 -->\n",
       "<g id=\"edge7\" class=\"edge\">\n",
       "<title>4&#45;&gt;1</title>\n",
       "<path fill=\"none\" stroke=\"#000000\" d=\"M146.6523,-290.3771C128.8655,-279.88 105.2389,-265.9364 85.9329,-254.5427\"/>\n",
       "<polygon fill=\"#000000\" stroke=\"#000000\" points=\"87.5168,-251.4134 77.1258,-249.3451 83.959,-257.4419 87.5168,-251.4134\"/>\n",
       "</g>\n",
       "<!-- 4&#45;&gt;5 -->\n",
       "<g id=\"edge8\" class=\"edge\">\n",
       "<title>4&#45;&gt;5</title>\n",
       "<path fill=\"none\" stroke=\"#000000\" d=\"M173.1244,-287.8314C173.1244,-280.131 173.1244,-270.9743 173.1244,-262.4166\"/>\n",
       "<polygon fill=\"#000000\" stroke=\"#000000\" points=\"176.6245,-262.4132 173.1244,-252.4133 169.6245,-262.4133 176.6245,-262.4132\"/>\n",
       "</g>\n",
       "<!-- 5&#45;&gt;2 -->\n",
       "<g id=\"edge9\" class=\"edge\">\n",
       "<title>5&#45;&gt;2</title>\n",
       "<path fill=\"none\" stroke=\"#000000\" d=\"M146.351,-218.1993C128.6698,-207.7645 105.3161,-193.982 86.1614,-182.6776\"/>\n",
       "<polygon fill=\"#000000\" stroke=\"#000000\" points=\"87.8069,-179.5847 77.4159,-177.5163 84.2491,-185.6131 87.8069,-179.5847\"/>\n",
       "</g>\n",
       "<!-- 5&#45;&gt;6 -->\n",
       "<g id=\"edge10\" class=\"edge\">\n",
       "<title>5&#45;&gt;6</title>\n",
       "<path fill=\"none\" stroke=\"#000000\" d=\"M173.1244,-215.8314C173.1244,-208.131 173.1244,-198.9743 173.1244,-190.4166\"/>\n",
       "<polygon fill=\"#000000\" stroke=\"#000000\" points=\"176.6245,-190.4132 173.1244,-180.4133 169.6245,-190.4133 176.6245,-190.4132\"/>\n",
       "</g>\n",
       "<!-- 6&#45;&gt;3 -->\n",
       "<g id=\"edge11\" class=\"edge\">\n",
       "<title>6&#45;&gt;3</title>\n",
       "<path fill=\"none\" stroke=\"#000000\" d=\"M146.6523,-146.3771C128.8655,-135.88 105.2389,-121.9364 85.9329,-110.5427\"/>\n",
       "<polygon fill=\"#000000\" stroke=\"#000000\" points=\"87.5168,-107.4134 77.1258,-105.3451 83.959,-113.4419 87.5168,-107.4134\"/>\n",
       "</g>\n",
       "<!-- 6&#45;&gt;7 -->\n",
       "<g id=\"edge12\" class=\"edge\">\n",
       "<title>6&#45;&gt;7</title>\n",
       "<path fill=\"none\" stroke=\"#000000\" d=\"M173.1244,-143.8314C173.1244,-136.131 173.1244,-126.9743 173.1244,-118.4166\"/>\n",
       "<polygon fill=\"#000000\" stroke=\"#000000\" points=\"176.6245,-118.4132 173.1244,-108.4133 169.6245,-118.4133 176.6245,-118.4132\"/>\n",
       "</g>\n",
       "<!-- 8 -->\n",
       "<g id=\"node9\" class=\"node\">\n",
       "<title>8</title>\n",
       "<ellipse fill=\"none\" stroke=\"#000000\" cx=\"173.1244\" cy=\"-18\" rx=\"53.2045\" ry=\"18\"/>\n",
       "<text text-anchor=\"middle\" x=\"173.1244\" y=\"-13.8\" font-family=\"Times,serif\" font-size=\"14.00\" fill=\"#000000\">CDC20 min</text>\n",
       "</g>\n",
       "<!-- 7&#45;&gt;8 -->\n",
       "<g id=\"edge13\" class=\"edge\">\n",
       "<title>7&#45;&gt;8</title>\n",
       "<path fill=\"none\" stroke=\"#000000\" d=\"M173.1244,-71.8314C173.1244,-64.131 173.1244,-54.9743 173.1244,-46.4166\"/>\n",
       "<polygon fill=\"#000000\" stroke=\"#000000\" points=\"176.6245,-46.4132 173.1244,-36.4133 169.6245,-46.4133 176.6245,-46.4132\"/>\n",
       "</g>\n",
       "</g>\n",
       "</svg>\n"
      ],
      "text/plain": [
       "<graphviz.files.Source at 0xa253a7d30>"
      ]
     },
     "metadata": {},
     "output_type": "display_data"
    },
    {
     "name": "stdout",
     "output_type": "stream",
     "text": [
      "Epsilon = 0.05\n"
     ]
    },
    {
     "data": {
      "image/svg+xml": [
       "<?xml version=\"1.0\" encoding=\"UTF-8\" standalone=\"no\"?>\n",
       "<!DOCTYPE svg PUBLIC \"-//W3C//DTD SVG 1.1//EN\"\n",
       " \"http://www.w3.org/Graphics/SVG/1.1/DTD/svg11.dtd\">\n",
       "<!-- Generated by graphviz version 2.40.1 (20161225.0304)\n",
       " -->\n",
       "<!-- Title: %3 Pages: 1 -->\n",
       "<svg width=\"235pt\" height=\"260pt\"\n",
       " viewBox=\"0.00 0.00 234.69 260.00\" xmlns=\"http://www.w3.org/2000/svg\" xmlns:xlink=\"http://www.w3.org/1999/xlink\">\n",
       "<g id=\"graph0\" class=\"graph\" transform=\"scale(1 1) rotate(0) translate(4 256)\">\n",
       "<title>%3</title>\n",
       "<polygon fill=\"#ffffff\" stroke=\"transparent\" points=\"-4,4 -4,-256 230.6947,-256 230.6947,4 -4,4\"/>\n",
       "<!-- 0 -->\n",
       "<g id=\"node1\" class=\"node\">\n",
       "<title>0</title>\n",
       "<ellipse fill=\"none\" stroke=\"#000000\" cx=\"51.1244\" cy=\"-234\" rx=\"51.2492\" ry=\"18\"/>\n",
       "<text text-anchor=\"middle\" x=\"51.1244\" y=\"-229.8\" font-family=\"Times,serif\" font-size=\"14.00\" fill=\"#000000\">NDD1 max</text>\n",
       "</g>\n",
       "<!-- 1 -->\n",
       "<g id=\"node2\" class=\"node\">\n",
       "<title>1</title>\n",
       "<ellipse fill=\"none\" stroke=\"#000000\" cx=\"51.1244\" cy=\"-162\" rx=\"49.8131\" ry=\"18\"/>\n",
       "<text text-anchor=\"middle\" x=\"51.1244\" y=\"-157.8\" font-family=\"Times,serif\" font-size=\"14.00\" fill=\"#000000\">NDD1 min</text>\n",
       "</g>\n",
       "<!-- 0&#45;&gt;1 -->\n",
       "<g id=\"edge1\" class=\"edge\">\n",
       "<title>0&#45;&gt;1</title>\n",
       "<path fill=\"none\" stroke=\"#000000\" d=\"M51.1244,-215.8314C51.1244,-208.131 51.1244,-198.9743 51.1244,-190.4166\"/>\n",
       "<polygon fill=\"#000000\" stroke=\"#000000\" points=\"54.6245,-190.4132 51.1244,-180.4133 47.6245,-190.4133 54.6245,-190.4132\"/>\n",
       "</g>\n",
       "<!-- 2 -->\n",
       "<g id=\"node3\" class=\"node\">\n",
       "<title>2</title>\n",
       "<ellipse fill=\"none\" stroke=\"#000000\" cx=\"111.1244\" cy=\"-90\" rx=\"51.2492\" ry=\"18\"/>\n",
       "<text text-anchor=\"middle\" x=\"111.1244\" y=\"-85.8\" font-family=\"Times,serif\" font-size=\"14.00\" fill=\"#000000\">NDD1 max</text>\n",
       "</g>\n",
       "<!-- 1&#45;&gt;2 -->\n",
       "<g id=\"edge2\" class=\"edge\">\n",
       "<title>1&#45;&gt;2</title>\n",
       "<path fill=\"none\" stroke=\"#000000\" d=\"M65.6488,-144.5708C72.9645,-135.7919 81.971,-124.9841 90.0334,-115.3093\"/>\n",
       "<polygon fill=\"#000000\" stroke=\"#000000\" points=\"92.8128,-117.4411 96.5259,-107.5182 87.4352,-112.9598 92.8128,-117.4411\"/>\n",
       "</g>\n",
       "<!-- 3 -->\n",
       "<g id=\"node4\" class=\"node\">\n",
       "<title>3</title>\n",
       "<ellipse fill=\"none\" stroke=\"#000000\" cx=\"50.1244\" cy=\"-18\" rx=\"49.8131\" ry=\"18\"/>\n",
       "<text text-anchor=\"middle\" x=\"50.1244\" y=\"-13.8\" font-family=\"Times,serif\" font-size=\"14.00\" fill=\"#000000\">NDD1 min</text>\n",
       "</g>\n",
       "<!-- 2&#45;&gt;3 -->\n",
       "<g id=\"edge3\" class=\"edge\">\n",
       "<title>2&#45;&gt;3</title>\n",
       "<path fill=\"none\" stroke=\"#000000\" d=\"M96.358,-72.5708C88.8653,-63.7269 79.628,-52.8239 71.385,-43.0945\"/>\n",
       "<polygon fill=\"#000000\" stroke=\"#000000\" points=\"73.8895,-40.6361 64.7549,-35.2687 68.5486,-45.161 73.8895,-40.6361\"/>\n",
       "</g>\n",
       "<!-- 5 -->\n",
       "<g id=\"node6\" class=\"node\">\n",
       "<title>5</title>\n",
       "<ellipse fill=\"none\" stroke=\"#000000\" cx=\"172.1244\" cy=\"-18\" rx=\"54.6407\" ry=\"18\"/>\n",
       "<text text-anchor=\"middle\" x=\"172.1244\" y=\"-13.8\" font-family=\"Times,serif\" font-size=\"14.00\" fill=\"#000000\">CDC20 max</text>\n",
       "</g>\n",
       "<!-- 2&#45;&gt;5 -->\n",
       "<g id=\"edge4\" class=\"edge\">\n",
       "<title>2&#45;&gt;5</title>\n",
       "<path fill=\"none\" stroke=\"#000000\" d=\"M125.8908,-72.5708C133.3285,-63.7919 142.4851,-52.9841 150.6819,-43.3093\"/>\n",
       "<polygon fill=\"#000000\" stroke=\"#000000\" points=\"153.4888,-45.4106 157.2826,-35.5182 148.1479,-40.8856 153.4888,-45.4106\"/>\n",
       "</g>\n",
       "<!-- 4 -->\n",
       "<g id=\"node5\" class=\"node\">\n",
       "<title>4</title>\n",
       "<ellipse fill=\"none\" stroke=\"#000000\" cx=\"172.1244\" cy=\"-162\" rx=\"53.2045\" ry=\"18\"/>\n",
       "<text text-anchor=\"middle\" x=\"172.1244\" y=\"-157.8\" font-family=\"Times,serif\" font-size=\"14.00\" fill=\"#000000\">CDC20 min</text>\n",
       "</g>\n",
       "<!-- 4&#45;&gt;2 -->\n",
       "<g id=\"edge5\" class=\"edge\">\n",
       "<title>4&#45;&gt;2</title>\n",
       "<path fill=\"none\" stroke=\"#000000\" d=\"M157.358,-144.5708C149.8653,-135.7269 140.628,-124.8239 132.385,-115.0945\"/>\n",
       "<polygon fill=\"#000000\" stroke=\"#000000\" points=\"134.8895,-112.6361 125.7549,-107.2687 129.5486,-117.161 134.8895,-112.6361\"/>\n",
       "</g>\n",
       "</g>\n",
       "</svg>\n"
      ],
      "text/plain": [
       "<graphviz.files.Source at 0xa252d5b38>"
      ]
     },
     "metadata": {},
     "output_type": "display_data"
    }
   ],
   "source": [
    "for p in posets1:\n",
    "    poe, eps = make_posets(p,network)\n",
    "    print(\"Epsilon = {}\".format(eps))\n",
    "    display.display(DSGRN.DrawGraph(poe))\n",
    "    with open(\"poset_intro_{}.dot\".format(int(100*eps)),\"w\") as f:\n",
    "        f.write(poe.graphviz())"
   ]
  },
  {
   "cell_type": "code",
   "execution_count": null,
   "metadata": {},
   "outputs": [],
   "source": []
  },
  {
   "cell_type": "code",
   "execution_count": null,
   "metadata": {},
   "outputs": [],
   "source": []
  }
 ],
 "metadata": {
  "kernelspec": {
   "display_name": "Python 3",
   "language": "python",
   "name": "python3"
  },
  "language_info": {
   "codemirror_mode": {
    "name": "ipython",
    "version": 3
   },
   "file_extension": ".py",
   "mimetype": "text/x-python",
   "name": "python",
   "nbconvert_exporter": "python",
   "pygments_lexer": "ipython3",
   "version": "3.7.3"
  }
 },
 "nbformat": 4,
 "nbformat_minor": 2
}
